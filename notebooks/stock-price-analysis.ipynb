{
 "cells": [
  {
   "cell_type": "markdown",
   "metadata": {},
   "source": [
    "## Stock price fetching using yfinance"
   ]
  },
  {
   "cell_type": "markdown",
   "metadata": {},
   "source": []
  },
  {
   "cell_type": "markdown",
   "metadata": {},
   "source": [
    "Import the necessary libraries"
   ]
  },
  {
   "cell_type": "code",
   "execution_count": 1,
   "metadata": {},
   "outputs": [],
   "source": [
    "import yfinance as yf\n",
    "import pandas as pd\n",
    "import matplotlib.pyplot as plt\n",
    "import seaborn as sns"
   ]
  },
  {
   "cell_type": "markdown",
   "metadata": {},
   "source": [
    "Load and Prepare the Data"
   ]
  },
  {
   "cell_type": "code",
   "execution_count": 2,
   "metadata": {},
   "outputs": [],
   "source": [
    "file_path = '../data/raw_analyst_ratings.csv'\n",
    "df = pd.read_csv(file_path)"
   ]
  },
  {
   "cell_type": "markdown",
   "metadata": {},
   "source": [
    "Convert 'date' column to datetime format"
   ]
  },
  {
   "cell_type": "code",
   "execution_count": 3,
   "metadata": {},
   "outputs": [],
   "source": [
    "df['date'] = pd.to_datetime(df['date'], format='ISO8601')"
   ]
  },
  {
   "cell_type": "markdown",
   "metadata": {},
   "source": [
    "Get the top 5 symbols"
   ]
  },
  {
   "cell_type": "code",
   "execution_count": 4,
   "metadata": {},
   "outputs": [],
   "source": [
    "# Identify unique stock symbols and their frequencies\n",
    "symbol_freq = df['stock'].value_counts()\n",
    "\n",
    "# Get the top 5 symbols with the highest frequency\n",
    "top_5_symbols = symbol_freq.index[:5]"
   ]
  },
  {
   "cell_type": "markdown",
   "metadata": {},
   "source": [
    "Identify Stock Symbols and Date Ranges"
   ]
  },
  {
   "cell_type": "code",
   "execution_count": 5,
   "metadata": {},
   "outputs": [],
   "source": [
    "# Calculate date ranges for each of the top 5 stocks\n",
    "date_ranges = {}\n",
    "for symbol in top_5_symbols:\n",
    "    symbol_data = df[df['stock'] == symbol]\n",
    "    symbol_data.loc[:, 'date'] = pd.to_datetime(symbol_data['date'], format='ISO8601', utc=True)\n",
    "\n",
    "    start_date = symbol_data['date'].min()\n",
    "    end_date = symbol_data['date'].max()\n",
    "    date_ranges[symbol] = (start_date, end_date)"
   ]
  },
  {
   "cell_type": "markdown",
   "metadata": {},
   "source": [
    "Fetch stock prices using yfinance"
   ]
  },
  {
   "cell_type": "code",
   "execution_count": 6,
   "metadata": {},
   "outputs": [],
   "source": [
    "# Fetch stock prices using yfinance\n",
    "stock_data = {}\n",
    "for symbol, (start_date, end_date) in date_ranges.items():\n",
    "    if pd.notnull(symbol):  # Check if symbol is not NaN\n",
    "        ticker = yf.Ticker(str(symbol))  # Convert symbol to string just to be safe\n",
    "        stock_data[symbol] = ticker.history(start=start_date, end=end_date)"
   ]
  },
  {
   "cell_type": "markdown",
   "metadata": {},
   "source": [
    "Print or visualize the results"
   ]
  },
  {
   "cell_type": "code",
   "execution_count": 7,
   "metadata": {},
   "outputs": [
    {
     "data": {
      "image/png": "[encoded data removed]",
      "text/plain": [
       "<Figure size 640x480 with 1 Axes>"
      ]
     },
     "metadata": {},
     "output_type": "display_data"
    }
   ],
   "source": [
    "# Create a new DataFrame for seaborn plotting\n",
    "plot_data = pd.DataFrame()\n",
    "\n",
    "# Loop over each of the top 5 stocks\n",
    "for symbol, data in stock_data.items():\n",
    "    # Add the 'Close' prices to the plot data\n",
    "    temp_df = data[['Close']].copy()\n",
    "    temp_df['Stock'] = symbol\n",
    "    plot_data = pd.concat([plot_data, temp_df])\n",
    "\n",
    "# Create a box plot\n",
    "sns.boxplot(x='Stock', y='Close', data=plot_data)\n",
    "\n",
    "# Show the plot\n",
    "plt.show()"
   ]
  }
 ],
 "metadata": {
  "kernelspec": {
   "display_name": "venv",
   "language": "python",
   "name": "python3"
  },
  "language_info": {
   "codemirror_mode": {
    "name": "ipython",
    "version": 3
   },
   "file_extension": ".py",
   "mimetype": "text/x-python",
   "name": "python",
   "nbconvert_exporter": "python",
   "pygments_lexer": "ipython3",
   "version": "3.10.12"
  }
 },
 "nbformat": 4,
 "nbformat_minor": 2
}
