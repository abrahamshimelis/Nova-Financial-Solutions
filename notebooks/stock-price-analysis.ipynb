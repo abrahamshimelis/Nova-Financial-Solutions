{
 "cells": [
  {
   "cell_type": "markdown",
   "metadata": {},
   "source": [
    "# Task 2"
   ]
  },
  {
   "cell_type": "markdown",
   "metadata": {},
   "source": [
    "## Stock price fetching using yfinance"
   ]
  },
  {
   "cell_type": "markdown",
   "metadata": {},
   "source": [
    "Import the necessary libraries"
   ]
  },
  {
   "cell_type": "code",
   "execution_count": 5,
   "metadata": {},
   "outputs": [],
   "source": [
    "import yfinance as yf\n",
    "import pandas as pd\n",
    "import matplotlib.pyplot as plt"
   ]
  },
  {
   "cell_type": "markdown",
   "metadata": {},
   "source": [
    "Load and Prepare the Data"
   ]
  },
  {
   "cell_type": "code",
   "execution_count": null,
   "metadata": {},
   "outputs": [],
   "source": [
    "file_path = '../data/raw_analyst_ratings.csv'\n",
    "df = pd.read_csv(file_path)"
   ]
  },
  {
   "cell_type": "markdown",
   "metadata": {},
   "source": [
    "Convert 'date' column to datetime format"
   ]
  },
  {
   "cell_type": "code",
   "execution_count": null,
   "metadata": {},
   "outputs": [],
   "source": [
    "df['date'] = pd.to_datetime(df['date'], format='ISO8601')"
   ]
  },
  {
   "cell_type": "markdown",
   "metadata": {},
   "source": [
    "Identify Stock Symbols and Date Ranges"
   ]
  },
  {
   "cell_type": "code",
   "execution_count": null,
   "metadata": {},
   "outputs": [],
   "source": [
    "# Identify unique stock symbols\n",
    "unique_symbols = df['stock'].unique()\n",
    "\n",
    "# Calculate date ranges for each stock\n",
    "date_ranges = {}\n",
    "for symbol in unique_symbols:\n",
    "    symbol_data = df[df['stock'] == symbol]\n",
    "    symbol_data.loc[:, 'date'] = pd.to_datetime(symbol_data['date'], format='ISO8601', utc=True)\n",
    "    start_date = symbol_data['date'].min()\n",
    "    end_date = symbol_data['date'].max()\n",
    "    date_ranges[symbol] = (start_date, end_date)\n"
   ]
  },
  {
   "cell_type": "markdown",
   "metadata": {},
   "source": [
    "Fetch stock prices using yfinance"
   ]
  },
  {
   "cell_type": "code",
   "execution_count": null,
   "metadata": {},
   "outputs": [],
   "source": [
    "# Fetch stock prices using yfinance\n",
    "stock_data = {}\n",
    "for symbol, (start_date, end_date) in date_ranges.items():\n",
    "    if pd.notnull(symbol):  # Check if symbol is not NaN\n",
    "        ticker = yf.Ticker(str(symbol))  # Convert symbol to string just to be safe\n",
    "        stock_data[symbol] = ticker.history(start=start_date, end=end_date)\n",
    "\n",
    "print(stock_data['AAPL'])"
   ]
  },
  {
   "cell_type": "markdown",
   "metadata": {},
   "source": [
    "Print or visualize the results"
   ]
  },
  {
   "cell_type": "code",
   "execution_count": null,
   "metadata": {},
   "outputs": [],
   "source": [
    "compay_symbol = 'ACM'\n",
    "\n",
    "print(stock_data[compay_symbol])\n",
    "\n",
    "# Extract the data for 'AAPL'\n",
    "plot_data = stock_data[compay_symbol]\n",
    "\n",
    "# Create a plot\n",
    "plt.figure(figsize=(14, 7))\n",
    "\n",
    "# Plot high, low, and close prices\n",
    "plt.plot(plot_data.index, plot_data['High'], label='High', color='green')\n",
    "plt.plot(plot_data.index, plot_data['Low'], label='Low', color='red')\n",
    "plt.plot(plot_data.index, plot_data['Close'], label='Close', color='blue')\n",
    "\n",
    "# Set the title and labels\n",
    "plt.title(compay_symbol + ' Stock Prices')\n",
    "plt.xlabel('Date')\n",
    "plt.ylabel('Price (USD)')\n",
    "\n",
    "# Add a legend\n",
    "plt.legend()\n",
    "\n",
    "# Show the plot\n",
    "plt.show()"
   ]
  }
 ],
 "metadata": {
  "kernelspec": {
   "display_name": "venv",
   "language": "python",
   "name": "python3"
  },
  "language_info": {
   "codemirror_mode": {
    "name": "ipython",
    "version": 3
   },
   "file_extension": ".py",
   "mimetype": "text/x-python",
   "name": "python",
   "nbconvert_exporter": "python",
   "pygments_lexer": "ipython3",
   "version": "3.12.1"
  }
 },
 "nbformat": 4,
 "nbformat_minor": 2
}
