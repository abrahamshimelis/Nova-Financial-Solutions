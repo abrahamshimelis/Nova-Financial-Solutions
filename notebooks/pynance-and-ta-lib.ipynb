{
 "cells": [
  {
   "cell_type": "markdown",
   "metadata": {},
   "source": [
    "## Quantitative analysis using pynance and TaLib"
   ]
  },
  {
   "cell_type": "markdown",
   "metadata": {},
   "source": [
    "Import the necessary libraries"
   ]
  },
  {
   "cell_type": "code",
   "execution_count": 2,
   "metadata": {},
   "outputs": [],
   "source": [
    "import pandas as pd\n",
    "import yfinance as yf"
   ]
  },
  {
   "cell_type": "markdown",
   "metadata": {},
   "source": [
    "Load and Prepare the Data"
   ]
  },
  {
   "cell_type": "code",
   "execution_count": 3,
   "metadata": {},
   "outputs": [],
   "source": [
    "file_path = '../data/raw_analyst_ratings.csv'\n",
    "df = pd.read_csv(file_path)"
   ]
  },
  {
   "cell_type": "markdown",
   "metadata": {},
   "source": []
  },
  {
   "cell_type": "code",
   "execution_count": 4,
   "metadata": {},
   "outputs": [
    {
     "name": "stderr",
     "output_type": "stream",
     "text": [
      "[*********************100%%**********************]  1 of 1 completed"
     ]
    },
    {
     "name": "stdout",
     "output_type": "stream",
     "text": [
      "                  Open        High         Low       Close   Adj Close  \\\n",
      "Date                                                                     \n",
      "2022-01-03  177.830002  182.880005  177.710007  182.009995  179.724564   \n",
      "2022-01-04  182.630005  182.940002  179.119995  179.699997  177.443558   \n",
      "2022-01-05  179.610001  180.169998  174.639999  174.919998  172.723587   \n",
      "2022-01-06  172.699997  175.300003  171.639999  172.000000  169.840256   \n",
      "2022-01-07  172.889999  174.139999  171.029999  172.169998  170.008102   \n",
      "\n",
      "               Volume  \n",
      "Date                   \n",
      "2022-01-03  104487900  \n",
      "2022-01-04   99310400  \n",
      "2022-01-05   94537600  \n",
      "2022-01-06   96904000  \n",
      "2022-01-07   86709100  \n"
     ]
    },
    {
     "name": "stderr",
     "output_type": "stream",
     "text": [
      "\n"
     ]
    }
   ],
   "source": [
    "# Define the stock symbol and date range for fetching data\n",
    "stock_symbol = 'AAPL'  # Example: Apple Inc.\n",
    "start_date = '2022-01-01'\n",
    "end_date = '2022-12-31'\n",
    "\n",
    "# Fetch historical stock price data using yfinance\n",
    "stock_data = yf.download(stock_symbol, start=start_date, end=end_date)\n",
    "\n",
    "# Display the fetched data\n",
    "print(stock_data.head())\n"
   ]
  },
  {
   "cell_type": "code",
   "execution_count": 5,
   "metadata": {},
   "outputs": [
    {
     "name": "stdout",
     "output_type": "stream",
     "text": [
      "DataFrame is ready for analysis.\n"
     ]
    }
   ],
   "source": [
    "# Check if the DataFrame has required columns\n",
    "required_columns = ['Open', 'High', 'Low', 'Close', 'Volume']\n",
    "missing_columns = [col for col in required_columns if col not in stock_data.columns]\n",
    "\n",
    "if missing_columns:\n",
    "    # Handle missing columns or re-fetch data with required columns\n",
    "    print(f\"Missing columns: {missing_columns}\")\n",
    "else:\n",
    "    # DataFrame is ready for analysis\n",
    "    print(\"DataFrame is ready for analysis.\")\n"
   ]
  }
 ],
 "metadata": {
  "kernelspec": {
   "display_name": "venv",
   "language": "python",
   "name": "python3"
  },
  "language_info": {
   "codemirror_mode": {
    "name": "ipython",
    "version": 3
   },
   "file_extension": ".py",
   "mimetype": "text/x-python",
   "name": "python",
   "nbconvert_exporter": "python",
   "pygments_lexer": "ipython3",
   "version": "3.12.1"
  }
 },
 "nbformat": 4,
 "nbformat_minor": 2
}
